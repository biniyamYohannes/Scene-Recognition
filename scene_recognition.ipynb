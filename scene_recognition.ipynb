{
 "cells": [
  {
   "cell_type": "code",
   "execution_count": 1,
   "metadata": {},
   "outputs": [
    {
     "data": {
      "application/javascript": [
       "if (!(\"Notification\" in window)) {\n",
       "    alert(\"This browser does not support desktop notifications, so the %%notify magic will not work.\");\n",
       "} else if (Notification.permission !== 'granted' && Notification.permission !== 'denied') {\n",
       "    Notification.requestPermission(function (permission) {\n",
       "        if(!('permission' in Notification)) {\n",
       "            Notification.permission = permission;\n",
       "        }\n",
       "    })\n",
       "}\n"
      ],
      "text/plain": [
       "<IPython.core.display.Javascript object>"
      ]
     },
     "metadata": {},
     "output_type": "display_data"
    }
   ],
   "source": [
    "import os, shutil\n",
    "from os import walk\n",
    "import tensorflow as tf\n",
    "from keras import models, layers, optimizers, regularizers, callbacks, preprocessing\n",
    "from keras.applications import VGG16, Xception\n",
    "import numpy as np\n",
    "import matplotlib.pyplot as plt\n",
    "import matplotlib.image as mpimg\n",
    "from keras_preprocessing.image import ImageDataGenerator\n",
    "import pandas as pd\n",
    "%load_ext jupyternotify"
   ]
  },
  {
   "cell_type": "code",
   "execution_count": 2,
   "metadata": {},
   "outputs": [
    {
     "data": {
      "text/html": [
       "<div>\n",
       "<style scoped>\n",
       "    .dataframe tbody tr th:only-of-type {\n",
       "        vertical-align: middle;\n",
       "    }\n",
       "\n",
       "    .dataframe tbody tr th {\n",
       "        vertical-align: top;\n",
       "    }\n",
       "\n",
       "    .dataframe thead th {\n",
       "        text-align: right;\n",
       "    }\n",
       "</style>\n",
       "<table border=\"1\" class=\"dataframe\">\n",
       "  <thead>\n",
       "    <tr style=\"text-align: right;\">\n",
       "      <th></th>\n",
       "      <th>Path</th>\n",
       "      <th>Class</th>\n",
       "    </tr>\n",
       "  </thead>\n",
       "  <tbody>\n",
       "    <tr>\n",
       "      <th>0</th>\n",
       "      <td>/home/biniyam.yohannes/dlproject/data/201/clos...</td>\n",
       "      <td>closet</td>\n",
       "    </tr>\n",
       "    <tr>\n",
       "      <th>1</th>\n",
       "      <td>/home/biniyam.yohannes/dlproject/data/201/brid...</td>\n",
       "      <td>bridge</td>\n",
       "    </tr>\n",
       "    <tr>\n",
       "      <th>2</th>\n",
       "      <td>/home/biniyam.yohannes/dlproject/data/201/ski_...</td>\n",
       "      <td>ski_slope</td>\n",
       "    </tr>\n",
       "    <tr>\n",
       "      <th>3</th>\n",
       "      <td>/home/biniyam.yohannes/dlproject/data/201/boar...</td>\n",
       "      <td>boardwalk</td>\n",
       "    </tr>\n",
       "    <tr>\n",
       "      <th>4</th>\n",
       "      <td>/home/biniyam.yohannes/dlproject/data/201/badl...</td>\n",
       "      <td>badlands</td>\n",
       "    </tr>\n",
       "    <tr>\n",
       "      <th>...</th>\n",
       "      <td>...</td>\n",
       "      <td>...</td>\n",
       "    </tr>\n",
       "    <tr>\n",
       "      <th>1499995</th>\n",
       "      <td>/home/biniyam.yohannes/dlproject/data/201/clas...</td>\n",
       "      <td>classroom</td>\n",
       "    </tr>\n",
       "    <tr>\n",
       "      <th>1499996</th>\n",
       "      <td>/home/biniyam.yohannes/dlproject/data/201/viad...</td>\n",
       "      <td>viaduct</td>\n",
       "    </tr>\n",
       "    <tr>\n",
       "      <th>1499997</th>\n",
       "      <td>/home/biniyam.yohannes/dlproject/data/201/boat...</td>\n",
       "      <td>boat_deck</td>\n",
       "    </tr>\n",
       "    <tr>\n",
       "      <th>1499998</th>\n",
       "      <td>/home/biniyam.yohannes/dlproject/data/201/pond...</td>\n",
       "      <td>pond</td>\n",
       "    </tr>\n",
       "    <tr>\n",
       "      <th>1499999</th>\n",
       "      <td>/home/biniyam.yohannes/dlproject/data/201/shop...</td>\n",
       "      <td>shopfront</td>\n",
       "    </tr>\n",
       "  </tbody>\n",
       "</table>\n",
       "<p>1500000 rows × 2 columns</p>\n",
       "</div>"
      ],
      "text/plain": [
       "                                                      Path      Class\n",
       "0        /home/biniyam.yohannes/dlproject/data/201/clos...     closet\n",
       "1        /home/biniyam.yohannes/dlproject/data/201/brid...     bridge\n",
       "2        /home/biniyam.yohannes/dlproject/data/201/ski_...  ski_slope\n",
       "3        /home/biniyam.yohannes/dlproject/data/201/boar...  boardwalk\n",
       "4        /home/biniyam.yohannes/dlproject/data/201/badl...   badlands\n",
       "...                                                    ...        ...\n",
       "1499995  /home/biniyam.yohannes/dlproject/data/201/clas...  classroom\n",
       "1499996  /home/biniyam.yohannes/dlproject/data/201/viad...    viaduct\n",
       "1499997  /home/biniyam.yohannes/dlproject/data/201/boat...  boat_deck\n",
       "1499998  /home/biniyam.yohannes/dlproject/data/201/pond...       pond\n",
       "1499999  /home/biniyam.yohannes/dlproject/data/201/shop...  shopfront\n",
       "\n",
       "[1500000 rows x 2 columns]"
      ]
     },
     "execution_count": 2,
     "metadata": {},
     "output_type": "execute_result"
    }
   ],
   "source": [
    "# Load the dataframes holding the image paths and classes\n",
    "\n",
    "datadir = '/home/biniyam.yohannes/dlproject/data/201/'\n",
    "labels_dir = '/home/biniyam.yohannes/dlproject/train_data_201.csv'\n",
    "data = pd.read_csv(labels_dir)\n",
    "data"
   ]
  },
  {
   "cell_type": "code",
   "execution_count": 3,
   "metadata": {},
   "outputs": [],
   "source": [
    "input_shape = (224, 224, 3)\n",
    "classes = 201\n",
    "batch_size = 256"
   ]
  },
  {
   "cell_type": "code",
   "execution_count": 4,
   "metadata": {},
   "outputs": [],
   "source": [
    "# Define a generator\n",
    "\n",
    "img_datagen = ImageDataGenerator(\n",
    "        rescale=1./255,\n",
    "        samplewise_center=True,\n",
    "        samplewise_std_normalization=True,\n",
    ")"
   ]
  },
  {
   "cell_type": "code",
   "execution_count": 5,
   "metadata": {},
   "outputs": [],
   "source": [
    "# A function to select random batches of data from the dataset\n",
    "\n",
    "def get_random_batch(sample_size):\n",
    "    data_sample = data.sample(n=sample_size)\n",
    "    \n",
    "    train_generator = img_datagen.flow_from_dataframe(\n",
    "        data_sample, color_mode=\"rgb\", x_col=\"Path\", y_col=\"Class\",\n",
    "        target_size=(224, 224), class_mode=\"categorical\",\n",
    "        subset=\"training\",batch_size=batch_size)\n",
    "    steps_per_epoch = len(train_generator)\n",
    "    \n",
    "    # Recommend to convert generator to tf.data.Dataset for mirroredstrategy use.\n",
    "    train_data = tf.data.Dataset.from_generator(\n",
    "         lambda: train_generator,\n",
    "         output_types=(tf.float32, tf.float32),\n",
    "         output_shapes=([None, input_shape[0], input_shape[1], input_shape[2]], # Image Shape\n",
    "                        [None, classes]))                                       # Label Shape\n",
    "    \n",
    "    train_data_c = train_data.cache()\n",
    "    \n",
    "    return train_data_c, steps_per_epoch"
   ]
  },
  {
   "cell_type": "code",
   "execution_count": 6,
   "metadata": {},
   "outputs": [],
   "source": [
    "# # Model 1 - VGG16\n",
    "\n",
    "# def get_model():\n",
    "#     conv_base = VGG16(\n",
    "#         weights='imagenet',\n",
    "#         include_top=False,\n",
    "#         input_shape=input_shape)\n",
    "#     conv_base.trainable = False\n",
    "\n",
    "#     model = models.Sequential()\n",
    "#     model.add(conv_base)\n",
    "#     model.add(layers.Flatten())\n",
    "#     model.add(layers.Dense(classes, activation='relu'))  # did you mean to have 'classes' neurons in this layer?\n",
    "#     model.add(layers.Dense(classes, activation='softmax'))\n",
    "    \n",
    "#     return model"
   ]
  },
  {
   "cell_type": "code",
   "execution_count": 7,
   "metadata": {},
   "outputs": [],
   "source": [
    "# # Model 2 - VGG16 + Fine-tuning\n",
    "\n",
    "# def get_model():\n",
    "    \n",
    "#     conv_base = VGG16(\n",
    "#         weights='imagenet',\n",
    "#         include_top=False,\n",
    "#         input_shape=input_shape)\n",
    "    \n",
    "#     set_trainable = False\n",
    "    \n",
    "#     for layer in conv_base.layers:\n",
    "#         if layer.name == 'block5_conv1':\n",
    "#             set_trainable = True\n",
    "#         if set_trainable:\n",
    "#             layer.trainable = True\n",
    "#         else:\n",
    "#             layer.trainable = False\n",
    "\n",
    "#     model = models.Sequential()\n",
    "#     model.add(conv_base)\n",
    "#     model.add(layers.Flatten())\n",
    "#     model.add(layers.Dense(1024, activation='relu'))\n",
    "#     model.add(layers.Dense(classes, activation='softmax'))\n",
    "    \n",
    "#     return model"
   ]
  },
  {
   "cell_type": "code",
   "execution_count": 6,
   "metadata": {},
   "outputs": [],
   "source": [
    "#Model 3 - Xception\n",
    "\n",
    "def get_model():\n",
    "    conv_base = Xception(\n",
    "        weights='imagenet',\n",
    "        include_top=False,\n",
    "        input_shape=input_shape)\n",
    "    conv_base.trainable = False\n",
    "\n",
    "    model = models.Sequential()\n",
    "    model.add(conv_base)\n",
    "    model.add(layers.Flatten())\n",
    "    model.add(layers.Dense(classes, activation='relu'))  # did you mean to have 'classes' neurons in this layer?\n",
    "    model.add(layers.Dense(classes, activation='softmax'))\n",
    "    \n",
    "    return model"
   ]
  },
  {
   "cell_type": "code",
   "execution_count": 7,
   "metadata": {},
   "outputs": [],
   "source": [
    "# A function to train a given model\n",
    "\n",
    "def train_model(epochs, sample_size, checkpoints_path):\n",
    "    train_batch, steps = get_random_batch(sample_size)\n",
    "    epoch = 1\n",
    "    for _ in range(epochs):\n",
    "        print(\"Epochs: {}/{}\".format(epoch, epochs))\n",
    "        epoch += 1\n",
    "        model.fit(\n",
    "            train_batch,\n",
    "            epochs=1,\n",
    "            steps_per_epoch=steps\n",
    "        )\n",
    "        model.save(checkpoints_path)"
   ]
  },
  {
   "cell_type": "code",
   "execution_count": 8,
   "metadata": {},
   "outputs": [
    {
     "name": "stdout",
     "output_type": "stream",
     "text": [
      "INFO:tensorflow:Using MirroredStrategy with devices ('/job:localhost/replica:0/task:0/device:GPU:0', '/job:localhost/replica:0/task:0/device:GPU:1', '/job:localhost/replica:0/task:0/device:GPU:2', '/job:localhost/replica:0/task:0/device:GPU:3')\n",
      "Number of devices: 4\n"
     ]
    }
   ],
   "source": [
    "# Set up tensorflow mirrored strategy to split batches among virtual gpus.\n",
    "\n",
    "strategy = tf.distribute.MirroredStrategy(\n",
    "     # devices=[\"/gpu:0\"], # ,\"/gpu:1\", \"/gpu:2\", \"/gpu:3\"\n",
    "     # cross_device_ops = tf.distribute.HierarchicalCopyAllReduce()\n",
    ")\n",
    "\n",
    "print(\"Number of devices: {}\".format(strategy.num_replicas_in_sync))"
   ]
  },
  {
   "cell_type": "code",
   "execution_count": 9,
   "metadata": {},
   "outputs": [
    {
     "name": "stdout",
     "output_type": "stream",
     "text": [
      "INFO:tensorflow:Reduce to /job:localhost/replica:0/task:0/device:CPU:0 then broadcast to ('/job:localhost/replica:0/task:0/device:CPU:0',).\n",
      "INFO:tensorflow:Reduce to /job:localhost/replica:0/task:0/device:CPU:0 then broadcast to ('/job:localhost/replica:0/task:0/device:CPU:0',).\n",
      "INFO:tensorflow:Reduce to /job:localhost/replica:0/task:0/device:CPU:0 then broadcast to ('/job:localhost/replica:0/task:0/device:CPU:0',).\n",
      "INFO:tensorflow:Reduce to /job:localhost/replica:0/task:0/device:CPU:0 then broadcast to ('/job:localhost/replica:0/task:0/device:CPU:0',).\n",
      "INFO:tensorflow:Reduce to /job:localhost/replica:0/task:0/device:CPU:0 then broadcast to ('/job:localhost/replica:0/task:0/device:CPU:0',).\n",
      "INFO:tensorflow:Reduce to /job:localhost/replica:0/task:0/device:CPU:0 then broadcast to ('/job:localhost/replica:0/task:0/device:CPU:0',).\n",
      "INFO:tensorflow:Reduce to /job:localhost/replica:0/task:0/device:CPU:0 then broadcast to ('/job:localhost/replica:0/task:0/device:CPU:0',).\n",
      "INFO:tensorflow:Reduce to /job:localhost/replica:0/task:0/device:CPU:0 then broadcast to ('/job:localhost/replica:0/task:0/device:CPU:0',).\n",
      "INFO:tensorflow:Reduce to /job:localhost/replica:0/task:0/device:CPU:0 then broadcast to ('/job:localhost/replica:0/task:0/device:CPU:0',).\n",
      "INFO:tensorflow:Reduce to /job:localhost/replica:0/task:0/device:CPU:0 then broadcast to ('/job:localhost/replica:0/task:0/device:CPU:0',).\n",
      "Previous Model Loaded.\n",
      "Model: \"sequential\"\n",
      "_________________________________________________________________\n",
      "Layer (type)                 Output Shape              Param #   \n",
      "=================================================================\n",
      "xception (Functional)        (None, 7, 7, 2048)        20861480  \n",
      "_________________________________________________________________\n",
      "flatten (Flatten)            (None, 100352)            0         \n",
      "_________________________________________________________________\n",
      "dense (Dense)                (None, 201)               20170953  \n",
      "_________________________________________________________________\n",
      "dense_1 (Dense)              (None, 201)               40602     \n",
      "=================================================================\n",
      "Total params: 41,073,035\n",
      "Trainable params: 41,018,507\n",
      "Non-trainable params: 54,528\n",
      "_________________________________________________________________\n"
     ]
    }
   ],
   "source": [
    "# Select if you want to continue training an existing model or define a new one\n",
    "\n",
    "model_path = \"/home/biniyam.yohannes/dlproject/xception_checkpoint\"\n",
    "\n",
    "with strategy.scope():\n",
    "    if os.path.exists(model_path):\n",
    "        model = models.load_model(model_path)\n",
    "        print(\"Previous Model Loaded.\")\n",
    "    else:\n",
    "        model = get_model()\n",
    "\n",
    "        model.compile(\n",
    "            loss='categorical_crossentropy',\n",
    "            optimizer=optimizers.Adam(lr=0.001),\n",
    "            metrics=['accuracy',\n",
    "                     tf.keras.metrics.TopKCategoricalAccuracy(\n",
    "                         k=5, name=\"top_5_acc\")])\n",
    "        \n",
    "        print(\"New Model Created.\")\n",
    "\n",
    "model.summary()"
   ]
  },
  {
   "cell_type": "code",
   "execution_count": 10,
   "metadata": {},
   "outputs": [],
   "source": [
    "# Compile the model\n",
    "\n",
    "with strategy.scope():\n",
    "    model.compile(\n",
    "                loss='categorical_crossentropy',\n",
    "                optimizer=optimizers.SGD(lr=0.0001, momentum = .9),\n",
    "                metrics=['accuracy',\n",
    "                         tf.keras.metrics.TopKCategoricalAccuracy(\n",
    "                             k=5, name=\"top_5_acc\")])"
   ]
  },
  {
   "cell_type": "markdown",
   "metadata": {},
   "source": [
    "# Set Up Validation"
   ]
  },
  {
   "cell_type": "code",
   "execution_count": 11,
   "metadata": {},
   "outputs": [],
   "source": [
    "# A function to select random batches of data and prepare it for validation\n",
    "\n",
    "def get_validation_sample_acc(sample_size):\n",
    "    valid_data_sample = valid_data_df.sample(n=sample_size, random_state = 47)\n",
    "    \n",
    "    valid_generator = img_datagen.flow_from_dataframe(\n",
    "        valid_data_sample, color_mode=\"rgb\", x_col=\"Path\", y_col=\"Class\",\n",
    "        target_size=(224, 224), class_mode=\"categorical\",batch_size=batch_size)\n",
    "    valid_steps = len(valid_generator)\n",
    "    \n",
    "    valid_data = tf.data.Dataset.from_generator(\n",
    "     lambda: valid_generator,\n",
    "     output_types=(tf.float32, tf.float32),\n",
    "     output_shapes=([None, input_shape[0], input_shape[1], input_shape[2]], # Image Shape\n",
    "                    [None, classes]))                                       # Label Shape\n",
    "    \n",
    "    val_eval = model.evaluate(valid_data, steps=valid_steps)\n",
    "    \n",
    "    return val_eval[1] # accuracy"
   ]
  },
  {
   "cell_type": "code",
   "execution_count": 12,
   "metadata": {},
   "outputs": [
    {
     "data": {
      "text/html": [
       "<div>\n",
       "<style scoped>\n",
       "    .dataframe tbody tr th:only-of-type {\n",
       "        vertical-align: middle;\n",
       "    }\n",
       "\n",
       "    .dataframe tbody tr th {\n",
       "        vertical-align: top;\n",
       "    }\n",
       "\n",
       "    .dataframe thead th {\n",
       "        text-align: right;\n",
       "    }\n",
       "</style>\n",
       "<table border=\"1\" class=\"dataframe\">\n",
       "  <thead>\n",
       "    <tr style=\"text-align: right;\">\n",
       "      <th></th>\n",
       "      <th>Path</th>\n",
       "      <th>Class</th>\n",
       "    </tr>\n",
       "  </thead>\n",
       "  <tbody>\n",
       "    <tr>\n",
       "      <th>0</th>\n",
       "      <td>/home/biniyam.yohannes/dlproject/data/201/swim...</td>\n",
       "      <td>swimming_pool</td>\n",
       "    </tr>\n",
       "    <tr>\n",
       "      <th>1</th>\n",
       "      <td>/home/biniyam.yohannes/dlproject/data/201/camp...</td>\n",
       "      <td>campsite</td>\n",
       "    </tr>\n",
       "    <tr>\n",
       "      <th>2</th>\n",
       "      <td>/home/biniyam.yohannes/dlproject/data/201/phon...</td>\n",
       "      <td>phone_booth</td>\n",
       "    </tr>\n",
       "    <tr>\n",
       "      <th>3</th>\n",
       "      <td>/home/biniyam.yohannes/dlproject/data/201/hote...</td>\n",
       "      <td>hotel</td>\n",
       "    </tr>\n",
       "    <tr>\n",
       "      <th>4</th>\n",
       "      <td>/home/biniyam.yohannes/dlproject/data/201/cour...</td>\n",
       "      <td>courtyard</td>\n",
       "    </tr>\n",
       "    <tr>\n",
       "      <th>...</th>\n",
       "      <td>...</td>\n",
       "      <td>...</td>\n",
       "    </tr>\n",
       "    <tr>\n",
       "      <th>499995</th>\n",
       "      <td>/home/biniyam.yohannes/dlproject/data/201/lobb...</td>\n",
       "      <td>lobby</td>\n",
       "    </tr>\n",
       "    <tr>\n",
       "      <th>499996</th>\n",
       "      <td>/home/biniyam.yohannes/dlproject/data/201/moun...</td>\n",
       "      <td>mountain</td>\n",
       "    </tr>\n",
       "    <tr>\n",
       "      <th>499997</th>\n",
       "      <td>/home/biniyam.yohannes/dlproject/data/201/fire...</td>\n",
       "      <td>fire_station</td>\n",
       "    </tr>\n",
       "    <tr>\n",
       "      <th>499998</th>\n",
       "      <td>/home/biniyam.yohannes/dlproject/data/201/snow...</td>\n",
       "      <td>snowfield</td>\n",
       "    </tr>\n",
       "    <tr>\n",
       "      <th>499999</th>\n",
       "      <td>/home/biniyam.yohannes/dlproject/data/201/crev...</td>\n",
       "      <td>crevasse</td>\n",
       "    </tr>\n",
       "  </tbody>\n",
       "</table>\n",
       "<p>500000 rows × 2 columns</p>\n",
       "</div>"
      ],
      "text/plain": [
       "                                                     Path          Class\n",
       "0       /home/biniyam.yohannes/dlproject/data/201/swim...  swimming_pool\n",
       "1       /home/biniyam.yohannes/dlproject/data/201/camp...       campsite\n",
       "2       /home/biniyam.yohannes/dlproject/data/201/phon...    phone_booth\n",
       "3       /home/biniyam.yohannes/dlproject/data/201/hote...          hotel\n",
       "4       /home/biniyam.yohannes/dlproject/data/201/cour...      courtyard\n",
       "...                                                   ...            ...\n",
       "499995  /home/biniyam.yohannes/dlproject/data/201/lobb...          lobby\n",
       "499996  /home/biniyam.yohannes/dlproject/data/201/moun...       mountain\n",
       "499997  /home/biniyam.yohannes/dlproject/data/201/fire...   fire_station\n",
       "499998  /home/biniyam.yohannes/dlproject/data/201/snow...      snowfield\n",
       "499999  /home/biniyam.yohannes/dlproject/data/201/crev...       crevasse\n",
       "\n",
       "[500000 rows x 2 columns]"
      ]
     },
     "execution_count": 12,
     "metadata": {},
     "output_type": "execute_result"
    }
   ],
   "source": [
    "# Import the validation data and convert it into a dataframe\n",
    "\n",
    "valid_dir = '/home/biniyam.yohannes/dlproject/valid_data_201.csv'\n",
    "valid_data_df = pd.read_csv(valid_dir)\n",
    "valid_data_df"
   ]
  },
  {
   "cell_type": "code",
   "execution_count": 13,
   "metadata": {},
   "outputs": [
    {
     "name": "stdout",
     "output_type": "stream",
     "text": [
      "Found 20000 validated image filenames belonging to 201 classes.\n",
      "79/79 [==============================] - 50s 511ms/step - loss: 2.2518 - accuracy: 0.4415 - top_5_acc: 0.7446\n"
     ]
    },
    {
     "data": {
      "text/plain": [
       "0.4458500146865845"
      ]
     },
     "execution_count": 13,
     "metadata": {},
     "output_type": "execute_result"
    }
   ],
   "source": [
    "# Calculate validation accuracy on a sample with size 20000\n",
    "\n",
    "get_validation_sample_acc(20000)"
   ]
  },
  {
   "cell_type": "markdown",
   "metadata": {},
   "source": [
    "# Training Loop"
   ]
  },
  {
   "cell_type": "code",
   "execution_count": 14,
   "metadata": {},
   "outputs": [
    {
     "name": "stdout",
     "output_type": "stream",
     "text": [
      "Batches: 1/15\n",
      "Found 102400 validated image filenames belonging to 201 classes.\n",
      "Epochs: 1/10\n",
      "INFO:tensorflow:batch_all_reduce: 158 all-reduces with algorithm = nccl, num_packs = 1\n",
      "INFO:tensorflow:batch_all_reduce: 158 all-reduces with algorithm = nccl, num_packs = 1\n",
      "400/400 [==============================] - 959s 2s/step - loss: 2.0771 - accuracy: 0.4853 - top_5_acc: 0.7683\n",
      "INFO:tensorflow:Assets written to: /home/biniyam.yohannes/dlproject/xception_checkpoint/assets\n",
      "Epochs: 2/10\n",
      "400/400 [==============================] - 319s 796ms/step - loss: 2.0652 - accuracy: 0.4864 - top_5_acc: 0.7708\n",
      "INFO:tensorflow:Assets written to: /home/biniyam.yohannes/dlproject/xception_checkpoint/assets\n",
      "Epochs: 3/10\n",
      "400/400 [==============================] - 317s 792ms/step - loss: 2.0587 - accuracy: 0.4866 - top_5_acc: 0.7706\n",
      "INFO:tensorflow:Assets written to: /home/biniyam.yohannes/dlproject/xception_checkpoint/assets\n",
      "Epochs: 4/10\n",
      "400/400 [==============================] - 319s 796ms/step - loss: 2.0463 - accuracy: 0.4891 - top_5_acc: 0.7737\n",
      "INFO:tensorflow:Assets written to: /home/biniyam.yohannes/dlproject/xception_checkpoint/assets\n",
      "Epochs: 5/10\n",
      "400/400 [==============================] - 318s 794ms/step - loss: 2.0434 - accuracy: 0.4910 - top_5_acc: 0.7733\n",
      "INFO:tensorflow:Assets written to: /home/biniyam.yohannes/dlproject/xception_checkpoint/assets\n",
      "Epochs: 6/10\n",
      "400/400 [==============================] - 319s 796ms/step - loss: 2.0363 - accuracy: 0.4910 - top_5_acc: 0.7757\n",
      "INFO:tensorflow:Assets written to: /home/biniyam.yohannes/dlproject/xception_checkpoint/assets\n",
      "Epochs: 7/10\n",
      "400/400 [==============================] - 320s 798ms/step - loss: 2.0312 - accuracy: 0.4919 - top_5_acc: 0.7759\n",
      "INFO:tensorflow:Assets written to: /home/biniyam.yohannes/dlproject/xception_checkpoint/assets\n",
      "Epochs: 8/10\n",
      "400/400 [==============================] - 319s 797ms/step - loss: 2.0215 - accuracy: 0.4926 - top_5_acc: 0.7781\n",
      "INFO:tensorflow:Assets written to: /home/biniyam.yohannes/dlproject/xception_checkpoint/assets\n",
      "Epochs: 9/10\n",
      "400/400 [==============================] - 318s 794ms/step - loss: 2.0164 - accuracy: 0.4935 - top_5_acc: 0.7790\n",
      "INFO:tensorflow:Assets written to: /home/biniyam.yohannes/dlproject/xception_checkpoint/assets\n",
      "Epochs: 10/10\n",
      "400/400 [==============================] - 319s 796ms/step - loss: 2.0157 - accuracy: 0.4944 - top_5_acc: 0.7786\n",
      "INFO:tensorflow:Assets written to: /home/biniyam.yohannes/dlproject/xception_checkpoint/assets\n",
      "Found 20000 validated image filenames belonging to 201 classes.\n",
      "79/79 [==============================] - 43s 535ms/step - loss: 2.1991 - accuracy: 0.4512 - top_5_acc: 0.7537\n",
      "Val Accuracy:     0.4512\n",
      "INFO:tensorflow:Assets written to: /home/biniyam.yohannes/dlproject/xception_model_best/assets\n",
      "Batches: 1/15\n",
      "Found 102400 validated image filenames belonging to 201 classes.\n",
      "Epochs: 1/10\n",
      "  1/400 [..............................] - ETA: 19:12 - loss: 2.0074 - accuracy: 0.4922 - top_5_acc: 0.8086"
     ]
    },
    {
     "ename": "KeyboardInterrupt",
     "evalue": "",
     "output_type": "error",
     "traceback": [
      "\u001b[0;31m---------------------------------------------------------------------------\u001b[0m",
      "\u001b[0;31mKeyboardInterrupt\u001b[0m                         Traceback (most recent call last)",
      "\u001b[0;32m<ipython-input-14-f219a1fb801f>\u001b[0m in \u001b[0;36m<module>\u001b[0;34m\u001b[0m\n\u001b[1;32m     11\u001b[0m     \u001b[0mprint\u001b[0m\u001b[0;34m(\u001b[0m\u001b[0;34m\"Batches: {}/{}\"\u001b[0m\u001b[0;34m.\u001b[0m\u001b[0mformat\u001b[0m\u001b[0;34m(\u001b[0m\u001b[0mbatch\u001b[0m\u001b[0;34m,\u001b[0m \u001b[0mbatches\u001b[0m\u001b[0;34m)\u001b[0m\u001b[0;34m)\u001b[0m\u001b[0;34m\u001b[0m\u001b[0;34m\u001b[0m\u001b[0m\n\u001b[1;32m     12\u001b[0m     \u001b[0mbatch\u001b[0m \u001b[0;34m+=\u001b[0m \u001b[0;36m1\u001b[0m\u001b[0;34m\u001b[0m\u001b[0;34m\u001b[0m\u001b[0m\n\u001b[0;32m---> 13\u001b[0;31m     \u001b[0mtrain_model\u001b[0m\u001b[0;34m(\u001b[0m\u001b[0mepochs_per_batch\u001b[0m\u001b[0;34m,\u001b[0m \u001b[0mbatch_sample_size\u001b[0m\u001b[0;34m,\u001b[0m \u001b[0mcheckpoints_path\u001b[0m\u001b[0;34m)\u001b[0m\u001b[0;34m\u001b[0m\u001b[0;34m\u001b[0m\u001b[0m\n\u001b[0m\u001b[1;32m     14\u001b[0m     \u001b[0mval_acc\u001b[0m \u001b[0;34m=\u001b[0m \u001b[0mget_validation_sample_acc\u001b[0m\u001b[0;34m(\u001b[0m\u001b[0mvalid_sample_size\u001b[0m\u001b[0;34m)\u001b[0m\u001b[0;34m\u001b[0m\u001b[0;34m\u001b[0m\u001b[0m\n\u001b[1;32m     15\u001b[0m     \u001b[0mprint\u001b[0m\u001b[0;34m(\u001b[0m\u001b[0;34m\"Val Accuracy: {:10.4}\"\u001b[0m\u001b[0;34m.\u001b[0m\u001b[0mformat\u001b[0m\u001b[0;34m(\u001b[0m\u001b[0mval_acc\u001b[0m\u001b[0;34m)\u001b[0m\u001b[0;34m)\u001b[0m\u001b[0;34m\u001b[0m\u001b[0;34m\u001b[0m\u001b[0m\n",
      "\u001b[0;32m<ipython-input-7-0c2531cc363e>\u001b[0m in \u001b[0;36mtrain_model\u001b[0;34m(epochs, sample_size, checkpoints_path)\u001b[0m\n\u001b[1;32m      8\u001b[0m             \u001b[0mtrain_batch\u001b[0m\u001b[0;34m,\u001b[0m\u001b[0;34m\u001b[0m\u001b[0;34m\u001b[0m\u001b[0m\n\u001b[1;32m      9\u001b[0m             \u001b[0mepochs\u001b[0m\u001b[0;34m=\u001b[0m\u001b[0;36m1\u001b[0m\u001b[0;34m,\u001b[0m\u001b[0;34m\u001b[0m\u001b[0;34m\u001b[0m\u001b[0m\n\u001b[0;32m---> 10\u001b[0;31m             \u001b[0msteps_per_epoch\u001b[0m\u001b[0;34m=\u001b[0m\u001b[0msteps\u001b[0m\u001b[0;34m\u001b[0m\u001b[0;34m\u001b[0m\u001b[0m\n\u001b[0m\u001b[1;32m     11\u001b[0m         )\n\u001b[1;32m     12\u001b[0m         \u001b[0mmodel\u001b[0m\u001b[0;34m.\u001b[0m\u001b[0msave\u001b[0m\u001b[0;34m(\u001b[0m\u001b[0mcheckpoints_path\u001b[0m\u001b[0;34m)\u001b[0m\u001b[0;34m\u001b[0m\u001b[0;34m\u001b[0m\u001b[0m\n",
      "\u001b[0;32m~/eureca/env/lib/python3.6/site-packages/tensorflow/python/keras/engine/training.py\u001b[0m in \u001b[0;36mfit\u001b[0;34m(self, x, y, batch_size, epochs, verbose, callbacks, validation_split, validation_data, shuffle, class_weight, sample_weight, initial_epoch, steps_per_epoch, validation_steps, validation_batch_size, validation_freq, max_queue_size, workers, use_multiprocessing)\u001b[0m\n\u001b[1;32m   1098\u001b[0m                 _r=1):\n\u001b[1;32m   1099\u001b[0m               \u001b[0mcallbacks\u001b[0m\u001b[0;34m.\u001b[0m\u001b[0mon_train_batch_begin\u001b[0m\u001b[0;34m(\u001b[0m\u001b[0mstep\u001b[0m\u001b[0;34m)\u001b[0m\u001b[0;34m\u001b[0m\u001b[0;34m\u001b[0m\u001b[0m\n\u001b[0;32m-> 1100\u001b[0;31m               \u001b[0mtmp_logs\u001b[0m \u001b[0;34m=\u001b[0m \u001b[0mself\u001b[0m\u001b[0;34m.\u001b[0m\u001b[0mtrain_function\u001b[0m\u001b[0;34m(\u001b[0m\u001b[0miterator\u001b[0m\u001b[0;34m)\u001b[0m\u001b[0;34m\u001b[0m\u001b[0;34m\u001b[0m\u001b[0m\n\u001b[0m\u001b[1;32m   1101\u001b[0m               \u001b[0;32mif\u001b[0m \u001b[0mdata_handler\u001b[0m\u001b[0;34m.\u001b[0m\u001b[0mshould_sync\u001b[0m\u001b[0;34m:\u001b[0m\u001b[0;34m\u001b[0m\u001b[0;34m\u001b[0m\u001b[0m\n\u001b[1;32m   1102\u001b[0m                 \u001b[0mcontext\u001b[0m\u001b[0;34m.\u001b[0m\u001b[0masync_wait\u001b[0m\u001b[0;34m(\u001b[0m\u001b[0;34m)\u001b[0m\u001b[0;34m\u001b[0m\u001b[0;34m\u001b[0m\u001b[0m\n",
      "\u001b[0;32m~/eureca/env/lib/python3.6/site-packages/tensorflow/python/eager/def_function.py\u001b[0m in \u001b[0;36m__call__\u001b[0;34m(self, *args, **kwds)\u001b[0m\n\u001b[1;32m    826\u001b[0m     \u001b[0mtracing_count\u001b[0m \u001b[0;34m=\u001b[0m \u001b[0mself\u001b[0m\u001b[0;34m.\u001b[0m\u001b[0mexperimental_get_tracing_count\u001b[0m\u001b[0;34m(\u001b[0m\u001b[0;34m)\u001b[0m\u001b[0;34m\u001b[0m\u001b[0;34m\u001b[0m\u001b[0m\n\u001b[1;32m    827\u001b[0m     \u001b[0;32mwith\u001b[0m \u001b[0mtrace\u001b[0m\u001b[0;34m.\u001b[0m\u001b[0mTrace\u001b[0m\u001b[0;34m(\u001b[0m\u001b[0mself\u001b[0m\u001b[0;34m.\u001b[0m\u001b[0m_name\u001b[0m\u001b[0;34m)\u001b[0m \u001b[0;32mas\u001b[0m \u001b[0mtm\u001b[0m\u001b[0;34m:\u001b[0m\u001b[0;34m\u001b[0m\u001b[0;34m\u001b[0m\u001b[0m\n\u001b[0;32m--> 828\u001b[0;31m       \u001b[0mresult\u001b[0m \u001b[0;34m=\u001b[0m \u001b[0mself\u001b[0m\u001b[0;34m.\u001b[0m\u001b[0m_call\u001b[0m\u001b[0;34m(\u001b[0m\u001b[0;34m*\u001b[0m\u001b[0margs\u001b[0m\u001b[0;34m,\u001b[0m \u001b[0;34m**\u001b[0m\u001b[0mkwds\u001b[0m\u001b[0;34m)\u001b[0m\u001b[0;34m\u001b[0m\u001b[0;34m\u001b[0m\u001b[0m\n\u001b[0m\u001b[1;32m    829\u001b[0m       \u001b[0mcompiler\u001b[0m \u001b[0;34m=\u001b[0m \u001b[0;34m\"xla\"\u001b[0m \u001b[0;32mif\u001b[0m \u001b[0mself\u001b[0m\u001b[0;34m.\u001b[0m\u001b[0m_experimental_compile\u001b[0m \u001b[0;32melse\u001b[0m \u001b[0;34m\"nonXla\"\u001b[0m\u001b[0;34m\u001b[0m\u001b[0;34m\u001b[0m\u001b[0m\n\u001b[1;32m    830\u001b[0m       \u001b[0mnew_tracing_count\u001b[0m \u001b[0;34m=\u001b[0m \u001b[0mself\u001b[0m\u001b[0;34m.\u001b[0m\u001b[0mexperimental_get_tracing_count\u001b[0m\u001b[0;34m(\u001b[0m\u001b[0;34m)\u001b[0m\u001b[0;34m\u001b[0m\u001b[0;34m\u001b[0m\u001b[0m\n",
      "\u001b[0;32m~/eureca/env/lib/python3.6/site-packages/tensorflow/python/eager/def_function.py\u001b[0m in \u001b[0;36m_call\u001b[0;34m(self, *args, **kwds)\u001b[0m\n\u001b[1;32m    853\u001b[0m       \u001b[0;31m# In this case we have created variables on the first call, so we run the\u001b[0m\u001b[0;34m\u001b[0m\u001b[0;34m\u001b[0m\u001b[0;34m\u001b[0m\u001b[0m\n\u001b[1;32m    854\u001b[0m       \u001b[0;31m# defunned version which is guaranteed to never create variables.\u001b[0m\u001b[0;34m\u001b[0m\u001b[0;34m\u001b[0m\u001b[0;34m\u001b[0m\u001b[0m\n\u001b[0;32m--> 855\u001b[0;31m       \u001b[0;32mreturn\u001b[0m \u001b[0mself\u001b[0m\u001b[0;34m.\u001b[0m\u001b[0m_stateless_fn\u001b[0m\u001b[0;34m(\u001b[0m\u001b[0;34m*\u001b[0m\u001b[0margs\u001b[0m\u001b[0;34m,\u001b[0m \u001b[0;34m**\u001b[0m\u001b[0mkwds\u001b[0m\u001b[0;34m)\u001b[0m  \u001b[0;31m# pylint: disable=not-callable\u001b[0m\u001b[0;34m\u001b[0m\u001b[0;34m\u001b[0m\u001b[0m\n\u001b[0m\u001b[1;32m    856\u001b[0m     \u001b[0;32melif\u001b[0m \u001b[0mself\u001b[0m\u001b[0;34m.\u001b[0m\u001b[0m_stateful_fn\u001b[0m \u001b[0;32mis\u001b[0m \u001b[0;32mnot\u001b[0m \u001b[0;32mNone\u001b[0m\u001b[0;34m:\u001b[0m\u001b[0;34m\u001b[0m\u001b[0;34m\u001b[0m\u001b[0m\n\u001b[1;32m    857\u001b[0m       \u001b[0;31m# Release the lock early so that multiple threads can perform the call\u001b[0m\u001b[0;34m\u001b[0m\u001b[0;34m\u001b[0m\u001b[0;34m\u001b[0m\u001b[0m\n",
      "\u001b[0;32m~/eureca/env/lib/python3.6/site-packages/tensorflow/python/eager/function.py\u001b[0m in \u001b[0;36m__call__\u001b[0;34m(self, *args, **kwargs)\u001b[0m\n\u001b[1;32m   2941\u001b[0m        filtered_flat_args) = self._maybe_define_function(args, kwargs)\n\u001b[1;32m   2942\u001b[0m     return graph_function._call_flat(\n\u001b[0;32m-> 2943\u001b[0;31m         filtered_flat_args, captured_inputs=graph_function.captured_inputs)  # pylint: disable=protected-access\n\u001b[0m\u001b[1;32m   2944\u001b[0m \u001b[0;34m\u001b[0m\u001b[0m\n\u001b[1;32m   2945\u001b[0m   \u001b[0;34m@\u001b[0m\u001b[0mproperty\u001b[0m\u001b[0;34m\u001b[0m\u001b[0;34m\u001b[0m\u001b[0m\n",
      "\u001b[0;32m~/eureca/env/lib/python3.6/site-packages/tensorflow/python/eager/function.py\u001b[0m in \u001b[0;36m_call_flat\u001b[0;34m(self, args, captured_inputs, cancellation_manager)\u001b[0m\n\u001b[1;32m   1917\u001b[0m       \u001b[0;31m# No tape is watching; skip to running the function.\u001b[0m\u001b[0;34m\u001b[0m\u001b[0;34m\u001b[0m\u001b[0;34m\u001b[0m\u001b[0m\n\u001b[1;32m   1918\u001b[0m       return self._build_call_outputs(self._inference_function.call(\n\u001b[0;32m-> 1919\u001b[0;31m           ctx, args, cancellation_manager=cancellation_manager))\n\u001b[0m\u001b[1;32m   1920\u001b[0m     forward_backward = self._select_forward_and_backward_functions(\n\u001b[1;32m   1921\u001b[0m         \u001b[0margs\u001b[0m\u001b[0;34m,\u001b[0m\u001b[0;34m\u001b[0m\u001b[0;34m\u001b[0m\u001b[0m\n",
      "\u001b[0;32m~/eureca/env/lib/python3.6/site-packages/tensorflow/python/eager/function.py\u001b[0m in \u001b[0;36mcall\u001b[0;34m(self, ctx, args, cancellation_manager)\u001b[0m\n\u001b[1;32m    558\u001b[0m               \u001b[0minputs\u001b[0m\u001b[0;34m=\u001b[0m\u001b[0margs\u001b[0m\u001b[0;34m,\u001b[0m\u001b[0;34m\u001b[0m\u001b[0;34m\u001b[0m\u001b[0m\n\u001b[1;32m    559\u001b[0m               \u001b[0mattrs\u001b[0m\u001b[0;34m=\u001b[0m\u001b[0mattrs\u001b[0m\u001b[0;34m,\u001b[0m\u001b[0;34m\u001b[0m\u001b[0;34m\u001b[0m\u001b[0m\n\u001b[0;32m--> 560\u001b[0;31m               ctx=ctx)\n\u001b[0m\u001b[1;32m    561\u001b[0m         \u001b[0;32melse\u001b[0m\u001b[0;34m:\u001b[0m\u001b[0;34m\u001b[0m\u001b[0;34m\u001b[0m\u001b[0m\n\u001b[1;32m    562\u001b[0m           outputs = execute.execute_with_cancellation(\n",
      "\u001b[0;32m~/eureca/env/lib/python3.6/site-packages/tensorflow/python/eager/execute.py\u001b[0m in \u001b[0;36mquick_execute\u001b[0;34m(op_name, num_outputs, inputs, attrs, ctx, name)\u001b[0m\n\u001b[1;32m     58\u001b[0m     \u001b[0mctx\u001b[0m\u001b[0;34m.\u001b[0m\u001b[0mensure_initialized\u001b[0m\u001b[0;34m(\u001b[0m\u001b[0;34m)\u001b[0m\u001b[0;34m\u001b[0m\u001b[0;34m\u001b[0m\u001b[0m\n\u001b[1;32m     59\u001b[0m     tensors = pywrap_tfe.TFE_Py_Execute(ctx._handle, device_name, op_name,\n\u001b[0;32m---> 60\u001b[0;31m                                         inputs, attrs, num_outputs)\n\u001b[0m\u001b[1;32m     61\u001b[0m   \u001b[0;32mexcept\u001b[0m \u001b[0mcore\u001b[0m\u001b[0;34m.\u001b[0m\u001b[0m_NotOkStatusException\u001b[0m \u001b[0;32mas\u001b[0m \u001b[0me\u001b[0m\u001b[0;34m:\u001b[0m\u001b[0;34m\u001b[0m\u001b[0;34m\u001b[0m\u001b[0m\n\u001b[1;32m     62\u001b[0m     \u001b[0;32mif\u001b[0m \u001b[0mname\u001b[0m \u001b[0;32mis\u001b[0m \u001b[0;32mnot\u001b[0m \u001b[0;32mNone\u001b[0m\u001b[0;34m:\u001b[0m\u001b[0;34m\u001b[0m\u001b[0;34m\u001b[0m\u001b[0m\n",
      "\u001b[0;31mKeyboardInterrupt\u001b[0m: "
     ]
    },
    {
     "data": {
      "application/javascript": [
       "$(document).ready(\n",
       "    function() {\n",
       "        function appendUniqueDiv(){\n",
       "            // append a div with our uuid so we can check that it's already\n",
       "            // been sent and avoid duplicates on page reload\n",
       "            var notifiedDiv = document.createElement(\"div\")\n",
       "            notifiedDiv.id = \"17a1ce04-b364-49b4-8d3e-df6547813eb6\"\n",
       "            element.append(notifiedDiv)\n",
       "        }\n",
       "\n",
       "        // only send notifications if the pageload is complete; this will\n",
       "        // help stop extra notifications when a saved notebook is loaded,\n",
       "        // which during testing gives us state \"interactive\", not \"complete\"\n",
       "        if (document.readyState === 'complete') {\n",
       "            // check for the div that signifies that the notification\n",
       "            // was already sent\n",
       "            if (document.getElementById(\"17a1ce04-b364-49b4-8d3e-df6547813eb6\") === null) {\n",
       "                var notificationPayload = {\"requireInteraction\": false, \"icon\": \"/static/base/images/favicon.ico\", \"body\": \"Cell execution has finished!\"};\n",
       "                if (Notification.permission !== 'denied') {\n",
       "                    if (Notification.permission !== 'granted') { \n",
       "                        Notification.requestPermission(function (permission) {\n",
       "                            if(!('permission' in Notification)) {\n",
       "                                Notification.permission = permission\n",
       "                            }\n",
       "                        })\n",
       "                    }\n",
       "                    if (Notification.permission === 'granted') {\n",
       "                    var notification = new Notification(\"Jupyter Notebook\", notificationPayload)\n",
       "                    appendUniqueDiv()\n",
       "                    notification.onclick = function () {\n",
       "                        window.focus();\n",
       "                        this.close();\n",
       "                        };\n",
       "                    } \n",
       "                }     \n",
       "            }\n",
       "        }\n",
       "    }\n",
       ")\n"
      ],
      "text/plain": [
       "<IPython.core.display.Javascript object>"
      ]
     },
     "metadata": {},
     "output_type": "display_data"
    }
   ],
   "source": [
    "# Train the model on 15 random data batches, with 10 epochs for every batch \n",
    "\n",
    "%%notify\n",
    "best_path = \"/home/biniyam.yohannes/dlproject/xception_model_best\"\n",
    "checkpoints_path = \"/home/biniyam.yohannes/dlproject/xception_checkpoint\"\n",
    "epochs_per_batch = 10\n",
    "batches = 15\n",
    "batch_sample_size = 102400\n",
    "valid_sample_size = 20000\n",
    "best_acc = .43\n",
    "\n",
    "for _ in range(batches):\n",
    "    batch = 1\n",
    "    print(\"Batches: {}/{}\".format(batch, batches))\n",
    "    batch += 1\n",
    "    train_model(epochs_per_batch, batch_sample_size, checkpoints_path)\n",
    "    val_acc = get_validation_sample_acc(valid_sample_size)\n",
    "    print(\"Val Accuracy: {:10.4}\".format(val_acc))\n",
    "    if (val_acc-best_acc) > .005:\n",
    "        best_acc = val_acc\n",
    "        model.save(best_path)\n",
    "    else:\n",
    "        break"
   ]
  },
  {
   "cell_type": "code",
   "execution_count": 22,
   "metadata": {},
   "outputs": [
    {
     "name": "stdout",
     "output_type": "stream",
     "text": [
      "INFO:tensorflow:Assets written to: /home/biniyam.yohannes/dlproject/models/xception_model/assets\n"
     ]
    }
   ],
   "source": [
    "save_path = \"/home/biniyam.yohannes/dlproject/models/xception_model\"\n",
    "model.save(save_path)"
   ]
  },
  {
   "cell_type": "markdown",
   "metadata": {},
   "source": [
    "# Predictions"
   ]
  },
  {
   "cell_type": "code",
   "execution_count": 26,
   "metadata": {},
   "outputs": [],
   "source": [
    "# Define and sort the class label names\n",
    "\n",
    "class_labels = ['cockpit', 'corn_field', 'supermarket', 'igloo', 'swamp', 'restaurant_kitchen', 'iceberg', 'botanical_garden', 'campsite', 'chalet', 'engine_room', 'attic', 'veranda', 'food_court', 'aqueduct', 'medina', 'pond', 'yard', 'valley', 'forest_path', 'beauty_salon', 'ice_skating_rink', 'music_studio', 'candy_store', 'ski_resort', 'herb_garden', 'banquet_hall', 'market', 'hotel_room', 'bridge', 'mansion', 'watering_hole', 'butchers_shop', 'shopfront', 'swimming_pool', 'home_office', 'schoolhouse', 'bakery', 'classroom', 'amphitheater', 'doorway', 'aquarium', 'cafeteria', 'forest_road', 'hospital', 'excavation', 'conference_center', 'kindergarden_classroom', 'parking_lot', 'windmill', 'hotel', 'pulpit', 'parlor', 'playground', 'raft', 'gas_station', 'kitchenette', 'butte', 'kitchen', 'rice_paddy', 'boat_deck', 'courthouse', 'kasbah', 'train_station', 'highway', 'rainforest', 'staircase', 'corridor', 'conference_room', 'creek', 'water_tower', 'desert', 'art_studio', 'ice_cream_parlor', 'wheat_field', 'reception', 'building_facade', 'plaza', 'canyon', 'hospital_room', 'coffee_shop', 'bus_interior', 'driveway', 'basement', 'bayou', 'sandbar', 'palace', 'snowfield', 'bamboo_forest', 'marsh', 'islet', 'underwater', 'office_building', 'fountain', 'motel', 'shed', 'subway_station', 'crevasse', 'dining_room', 'hot_spring', 'residential_neighborhood', 'sea_cliff', 'restaurant_patio', 'runway', 'ballroom', 'field', 'racecourse', 'castle', 'laundromat', 'pasture', 'dam', 'volcano', 'fire_escape', 'clothing_store', 'track', 'inn', 'viaduct', 'vegetable_garden', 'sky', 'nursery', 'jail_cell', 'ocean', 'stage', 'alley', 'assembly_line', 'bowling_alley', 'living_room', 'patio', 'martial_arts_gym', 'temple', 'topiary_garden', 'church', 'shoe_shop', 'boxing_ring', 'galley', 'game_room', 'pagoda', 'orchard', 'waiting_room', 'shower', 'courtyard', 'slum', 'gift_shop', 'ski_slope', 'arch', 'formal_garden', 'crosswalk', 'train_railway', 'mountain', 'rope_bridge', 'restaurant', 'golf_course', 'cathedral', 'amusement_park', 'stadium', 'dorm_room', 'garbage_dump', 'railroad_track', 'closet', 'bar', 'monastery', 'picnic_area', 'boardwalk', 'airport_terminal', 'auditorium', 'lobby', 'dock', 'apartment_building', 'basilica', 'fairway', 'mountain_snowy', 'bedroom', 'ruin', 'skyscraper', 'coast', 'harbor', 'trench', 'mausoleum', 'phone_booth', 'pavilion', 'museum', 'rock_arch', 'lighthouse', 'art_gallery', 'locker_room', 'dinette', 'pantry', 'television_studio', 'abbey', 'river', 'wind_farm', 'fire_station', 'construction_site', 'tower', 'baseball_field', 'cemetery', 'tree_farm', 'bookstore', 'cottage_garden', 'office', 'badlands']\n",
    "class_labels.sort()"
   ]
  },
  {
   "cell_type": "code",
   "execution_count": 27,
   "metadata": {},
   "outputs": [
    {
     "data": {
      "text/plain": [
       "<matplotlib.image.AxesImage at 0x7fe5879dbef0>"
      ]
     },
     "execution_count": 27,
     "metadata": {},
     "output_type": "execute_result"
    },
    {
     "data": {
      "image/png": "[encoded data removed]",
      "text/plain": [
       "<Figure size 432x288 with 1 Axes>"
      ]
     },
     "metadata": {
      "needs_background": "light"
     },
     "output_type": "display_data"
    }
   ],
   "source": [
    "# Import and show an example image\n",
    "\n",
    "img = preprocessing.image.load_img(\n",
    "    \"/home/biniyam.yohannes/dlproject/data/201/ocean/ocean&4655.jpg\",\n",
    "    color_mode='rgb', target_size=(224,224)\n",
    ")\n",
    "plt.imshow(img)"
   ]
  },
  {
   "cell_type": "code",
   "execution_count": 28,
   "metadata": {},
   "outputs": [],
   "source": [
    "# Predict the label of the image\n",
    "\n",
    "img_array = preprocessing.image.img_to_array(img)\n",
    "img_datagen.standardize(img_array)\n",
    "img_array = tf.expand_dims(img_array, 0)  # Create batch axis\n",
    "\n",
    "prediction = model.predict(img_array)"
   ]
  },
  {
   "cell_type": "code",
   "execution_count": 29,
   "metadata": {},
   "outputs": [],
   "source": [
    "# Sort and select the the top-5 preidctions\n",
    "\n",
    "top_5 = sorted(range(len(prediction[0])), key=lambda i: prediction[0][i], reverse=True)[:5]"
   ]
  },
  {
   "cell_type": "code",
   "execution_count": 30,
   "metadata": {
    "scrolled": false
   },
   "outputs": [
    {
     "name": "stdout",
     "output_type": "stream",
     "text": [
      "iceberg\n",
      "Probability:      96.78%\n",
      "ocean\n",
      "Probability:      1.041%\n",
      "sea_cliff\n",
      "Probability:     0.4908%\n",
      "islet\n",
      "Probability:     0.3868%\n",
      "harbor\n",
      "Probability:     0.3075%\n"
     ]
    }
   ],
   "source": [
    "# Print the top-5 predictions\n",
    "\n",
    "for i in top_5:\n",
    "    print(class_labels[i])\n",
    "    print(\"Probability: {:10.4}%\".format(prediction[0][i]*100))"
   ]
  },
  {
   "cell_type": "markdown",
   "metadata": {},
   "source": [
    "# Test Evaluation"
   ]
  },
  {
   "cell_type": "code",
   "execution_count": 16,
   "metadata": {},
   "outputs": [
    {
     "data": {
      "text/html": [
       "<div>\n",
       "<style scoped>\n",
       "    .dataframe tbody tr th:only-of-type {\n",
       "        vertical-align: middle;\n",
       "    }\n",
       "\n",
       "    .dataframe tbody tr th {\n",
       "        vertical-align: top;\n",
       "    }\n",
       "\n",
       "    .dataframe thead th {\n",
       "        text-align: right;\n",
       "    }\n",
       "</style>\n",
       "<table border=\"1\" class=\"dataframe\">\n",
       "  <thead>\n",
       "    <tr style=\"text-align: right;\">\n",
       "      <th></th>\n",
       "      <th>Path</th>\n",
       "      <th>Class</th>\n",
       "    </tr>\n",
       "  </thead>\n",
       "  <tbody>\n",
       "    <tr>\n",
       "      <th>0</th>\n",
       "      <td>/home/biniyam.yohannes/dlproject/data/201/rain...</td>\n",
       "      <td>rainforest</td>\n",
       "    </tr>\n",
       "    <tr>\n",
       "      <th>1</th>\n",
       "      <td>/home/biniyam.yohannes/dlproject/data/201/pavi...</td>\n",
       "      <td>pavilion</td>\n",
       "    </tr>\n",
       "    <tr>\n",
       "      <th>2</th>\n",
       "      <td>/home/biniyam.yohannes/dlproject/data/201/rail...</td>\n",
       "      <td>railroad_track</td>\n",
       "    </tr>\n",
       "    <tr>\n",
       "      <th>3</th>\n",
       "      <td>/home/biniyam.yohannes/dlproject/data/201/cour...</td>\n",
       "      <td>courtyard</td>\n",
       "    </tr>\n",
       "    <tr>\n",
       "      <th>4</th>\n",
       "      <td>/home/biniyam.yohannes/dlproject/data/201/rail...</td>\n",
       "      <td>railroad_track</td>\n",
       "    </tr>\n",
       "    <tr>\n",
       "      <th>...</th>\n",
       "      <td>...</td>\n",
       "      <td>...</td>\n",
       "    </tr>\n",
       "    <tr>\n",
       "      <th>457078</th>\n",
       "      <td>/home/biniyam.yohannes/dlproject/data/201/fore...</td>\n",
       "      <td>forest_path</td>\n",
       "    </tr>\n",
       "    <tr>\n",
       "      <th>457079</th>\n",
       "      <td>/home/biniyam.yohannes/dlproject/data/201/wait...</td>\n",
       "      <td>waiting_room</td>\n",
       "    </tr>\n",
       "    <tr>\n",
       "      <th>457080</th>\n",
       "      <td>/home/biniyam.yohannes/dlproject/data/201/mark...</td>\n",
       "      <td>market</td>\n",
       "    </tr>\n",
       "    <tr>\n",
       "      <th>457081</th>\n",
       "      <td>/home/biniyam.yohannes/dlproject/data/201/fore...</td>\n",
       "      <td>forest_path</td>\n",
       "    </tr>\n",
       "    <tr>\n",
       "      <th>457082</th>\n",
       "      <td>/home/biniyam.yohannes/dlproject/data/201/harb...</td>\n",
       "      <td>harbor</td>\n",
       "    </tr>\n",
       "  </tbody>\n",
       "</table>\n",
       "<p>457083 rows × 2 columns</p>\n",
       "</div>"
      ],
      "text/plain": [
       "                                                     Path           Class\n",
       "0       /home/biniyam.yohannes/dlproject/data/201/rain...      rainforest\n",
       "1       /home/biniyam.yohannes/dlproject/data/201/pavi...        pavilion\n",
       "2       /home/biniyam.yohannes/dlproject/data/201/rail...  railroad_track\n",
       "3       /home/biniyam.yohannes/dlproject/data/201/cour...       courtyard\n",
       "4       /home/biniyam.yohannes/dlproject/data/201/rail...  railroad_track\n",
       "...                                                   ...             ...\n",
       "457078  /home/biniyam.yohannes/dlproject/data/201/fore...     forest_path\n",
       "457079  /home/biniyam.yohannes/dlproject/data/201/wait...    waiting_room\n",
       "457080  /home/biniyam.yohannes/dlproject/data/201/mark...          market\n",
       "457081  /home/biniyam.yohannes/dlproject/data/201/fore...     forest_path\n",
       "457082  /home/biniyam.yohannes/dlproject/data/201/harb...          harbor\n",
       "\n",
       "[457083 rows x 2 columns]"
      ]
     },
     "execution_count": 16,
     "metadata": {},
     "output_type": "execute_result"
    }
   ],
   "source": [
    "# Test the performance on the test dataset\n",
    "\n",
    "test_dir = '/home/biniyam.yohannes/dlproject/test_data_201.csv'\n",
    "test_data_df = pd.read_csv(test_dir)\n",
    "test_data_df"
   ]
  },
  {
   "cell_type": "code",
   "execution_count": 17,
   "metadata": {},
   "outputs": [
    {
     "name": "stdout",
     "output_type": "stream",
     "text": [
      "Found 20000 validated image filenames belonging to 201 classes.\n"
     ]
    }
   ],
   "source": [
    "# Prepare the test dataset\n",
    "\n",
    "test_data_sample = test_data_df.sample(n=20000, random_state=47)\n",
    "\n",
    "test_generator = img_datagen.flow_from_dataframe(\n",
    "    test_data_sample, color_mode=\"rgb\", x_col=\"Path\", y_col=\"Class\",\n",
    "    target_size=(224, 224), class_mode=\"categorical\",batch_size=batch_size)\n",
    "test_steps = len(test_generator)\n",
    "\n",
    "test_data = tf.data.Dataset.from_generator(\n",
    " lambda: test_generator,\n",
    " output_types=(tf.float32, tf.float32),\n",
    " output_shapes=([None, input_shape[0], input_shape[1], input_shape[2]], # Image Shape\n",
    "                [None, classes]))                                       # Label Shape"
   ]
  },
  {
   "cell_type": "code",
   "execution_count": 24,
   "metadata": {},
   "outputs": [
    {
     "name": "stdout",
     "output_type": "stream",
     "text": [
      "79/79 [==============================] - 44s 534ms/step - loss: 2.3404 - accuracy: 0.4345 - top_5_acc: 0.7537\n"
     ]
    },
    {
     "data": {
      "text/plain": [
       "[2.3403780460357666, 0.4345000088214874, 0.7537000179290771]"
      ]
     },
     "execution_count": 24,
     "metadata": {},
     "output_type": "execute_result"
    }
   ],
   "source": [
    "# Select the basic VGG-16 model and evaluate its performance \n",
    "\n",
    "model_path = \"/home/biniyam.yohannes/dlproject/models/VGG16_pretrained_model\"\n",
    "\n",
    "with strategy.scope():\n",
    "    model = models.load_model(model_path)\n",
    "    \n",
    "model.evaluate(test_data, steps=test_steps)"
   ]
  },
  {
   "cell_type": "code",
   "execution_count": 19,
   "metadata": {},
   "outputs": [
    {
     "name": "stdout",
     "output_type": "stream",
     "text": [
      "79/79 [==============================] - 47s 514ms/step - loss: 2.2848 - accuracy: 0.4152 - top_5_acc: 0.7336\n"
     ]
    },
    {
     "data": {
      "text/plain": [
       "[2.284799337387085, 0.41519999504089355, 0.7335500121116638]"
      ]
     },
     "execution_count": 19,
     "metadata": {},
     "output_type": "execute_result"
    }
   ],
   "source": [
    "# Select the fine-tuned VGG-16 model and evaluate its performance \n",
    "\n",
    "model_path = \"/home/biniyam.yohannes/dlproject/models/VGG16_finetuned_model\"\n",
    "\n",
    "with strategy.scope():\n",
    "    model = models.load_model(model_path)\n",
    "    \n",
    "model.evaluate(test_data, steps=test_steps)"
   ]
  },
  {
   "cell_type": "code",
   "execution_count": 23,
   "metadata": {},
   "outputs": [
    {
     "name": "stdout",
     "output_type": "stream",
     "text": [
      "79/79 [==============================] - 46s 533ms/step - loss: 2.1762 - accuracy: 0.4508 - top_5_acc: 0.7561\n"
     ]
    },
    {
     "data": {
      "text/plain": [
       "[2.176243305206299, 0.45080000162124634, 0.7560999989509583]"
      ]
     },
     "execution_count": 23,
     "metadata": {},
     "output_type": "execute_result"
    }
   ],
   "source": [
    "# Select the basic Xception model and evaluate its performance \n",
    "\n",
    "model_path = \"/home/biniyam.yohannes/dlproject/models/xception_model\"\n",
    "\n",
    "with strategy.scope():\n",
    "    model = models.load_model(model_path)\n",
    "    \n",
    "model.evaluate(test_data, steps=test_steps)"
   ]
  }
 ],
 "metadata": {
  "kernelspec": {
   "display_name": "Python 3",
   "language": "python",
   "name": "python3"
  },
  "language_info": {
   "codemirror_mode": {
    "name": "ipython",
    "version": 3
   },
   "file_extension": ".py",
   "mimetype": "text/x-python",
   "name": "python",
   "nbconvert_exporter": "python",
   "pygments_lexer": "ipython3",
   "version": "3.6.9"
  }
 },
 "nbformat": 4,
 "nbformat_minor": 4
}
