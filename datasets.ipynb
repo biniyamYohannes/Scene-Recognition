{
 "cells": [
  {
   "cell_type": "code",
   "execution_count": null,
   "metadata": {},
   "outputs": [],
   "source": [
    "import os\n",
    "import pandas as pd\n",
    "from random import shuffle"
   ]
  },
  {
   "cell_type": "code",
   "execution_count": null,
   "metadata": {},
   "outputs": [],
   "source": [
    "# Directory path to the data\n",
    "\n",
    "datadir = '/home/biniyam.yohannes/dlproject/data/201/'"
   ]
  },
  {
   "cell_type": "code",
   "execution_count": null,
   "metadata": {},
   "outputs": [],
   "source": [
    "# Store the file names in a list\n",
    "\n",
    "data = []\n",
    "\n",
    "for root, dirs, files in os.walk(datadir, topdown=False):\n",
    "    for name in files:\n",
    "        img_path = os.path.join(root, name)\n",
    "        img_path_arr = img_path.split('/')\n",
    "        data.append([img_path, img_path_arr[-2]])\n",
    "\n",
    "data"
   ]
  },
  {
   "cell_type": "code",
   "execution_count": null,
   "metadata": {},
   "outputs": [],
   "source": [
    "# Number of images found\n",
    "\n",
    "len(data)"
   ]
  },
  {
   "cell_type": "code",
   "execution_count": null,
   "metadata": {},
   "outputs": [],
   "source": [
    "# Store the classes in a list\n",
    "\n",
    "classes = []\n",
    "for i in range(len(data)):\n",
    "    if data[i][1] not in classes:\n",
    "        classes.append(data[i][1])\n",
    "    \n",
    "print(classes)\n",
    "len(classes)"
   ]
  },
  {
   "cell_type": "code",
   "execution_count": null,
   "metadata": {},
   "outputs": [],
   "source": [
    "# Shuffle the image names\n",
    "\n",
    "shuffle(data)"
   ]
  },
  {
   "cell_type": "code",
   "execution_count": null,
   "metadata": {},
   "outputs": [],
   "source": [
    "data"
   ]
  },
  {
   "cell_type": "code",
   "execution_count": null,
   "metadata": {},
   "outputs": [],
   "source": [
    "# Select training, validation, and test data sets\n",
    "\n",
    "train_data = data[:1500000]\n",
    "valid_data = data[1500000:2000000]\n",
    "test_data = data[2000000:]"
   ]
  },
  {
   "cell_type": "code",
   "execution_count": null,
   "metadata": {},
   "outputs": [],
   "source": [
    "# Create pandas dataframes with the data\n",
    "\n",
    "columns = [\"Path\", \"Class\"]\n",
    "train_df = pd.DataFrame(train_data, columns=columns)\n",
    "valid_df = pd.DataFrame(valid_data, columns=columns)\n",
    "test_df = pd.DataFrame(test_data, columns=columns)"
   ]
  },
  {
   "cell_type": "code",
   "execution_count": null,
   "metadata": {},
   "outputs": [],
   "source": [
    "# Create csv files to export the dataframes\n",
    "\n",
    "train_path = '/home/biniyam.yohannes/dlproject/train_data_201.csv'\n",
    "valid_path = '/home/biniyam.yohannes/dlproject/valid_data_201.csv'\n",
    "test_path = '/home/biniyam.yohannes/dlproject/test_data_201.csv'"
   ]
  },
  {
   "cell_type": "code",
   "execution_count": null,
   "metadata": {},
   "outputs": [],
   "source": [
    "# Convert the dataframes into csv files\n",
    "\n",
    "train_df.to_csv(train_path, sep=\",\", index=False)\n",
    "valid_df.to_csv(valid_path, sep=\",\", index=False)\n",
    "test_df.to_csv(test_path, sep=\",\", index=False)"
   ]
  }
 ],
 "metadata": {
  "kernelspec": {
   "display_name": "Python 3",
   "language": "python",
   "name": "python3"
  },
  "language_info": {
   "codemirror_mode": {
    "name": "ipython",
    "version": 3
   },
   "file_extension": ".py",
   "mimetype": "text/x-python",
   "name": "python",
   "nbconvert_exporter": "python",
   "pygments_lexer": "ipython3",
   "version": "3.6.9"
  }
 },
 "nbformat": 4,
 "nbformat_minor": 4
}
